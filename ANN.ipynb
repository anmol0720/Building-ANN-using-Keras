{
  "nbformat": 4,
  "nbformat_minor": 0,
  "metadata": {
    "colab": {
      "name": "ANN",
      "provenance": [],
      "authorship_tag": "ABX9TyMlFPykaRk0qgD5TCdaY0pc",
      "include_colab_link": true
    },
    "kernelspec": {
      "name": "python3",
      "display_name": "Python 3"
    }
  },
  "cells": [
    {
      "cell_type": "markdown",
      "metadata": {
        "id": "view-in-github",
        "colab_type": "text"
      },
      "source": [
        "<a href=\"https://colab.research.google.com/github/anmol0720/Building-ANN-using-Keras/blob/master/ANN.ipynb\" target=\"_parent\"><img src=\"https://colab.research.google.com/assets/colab-badge.svg\" alt=\"Open In Colab\"/></a>"
      ]
    },
    {
      "cell_type": "code",
      "metadata": {
        "id": "20Hq-fVbJo64",
        "colab_type": "code",
        "colab": {}
      },
      "source": [
        "import numpy as np\n",
        "import pandas as pd\n",
        "%matplotlib inline\n",
        "import matplotlib as npl\n",
        "import matplotlib.pyplot as plt"
      ],
      "execution_count": 0,
      "outputs": []
    },
    {
      "cell_type": "code",
      "metadata": {
        "id": "9ARpoJfHJ3WJ",
        "colab_type": "code",
        "colab": {}
      },
      "source": [
        "import tensorflow as tf"
      ],
      "execution_count": 0,
      "outputs": []
    },
    {
      "cell_type": "code",
      "metadata": {
        "id": "fHGMmO2vJ5Ku",
        "colab_type": "code",
        "colab": {}
      },
      "source": [
        "from tensorflow import keras"
      ],
      "execution_count": 0,
      "outputs": []
    },
    {
      "cell_type": "code",
      "metadata": {
        "id": "6tvyjDePJ7cn",
        "colab_type": "code",
        "colab": {}
      },
      "source": [
        "from sklearn.datasets import fetch_california_housing\n",
        "housing=fetch_california_housing()"
      ],
      "execution_count": 0,
      "outputs": []
    },
    {
      "cell_type": "code",
      "metadata": {
        "id": "2Vg7cIa2KUtj",
        "colab_type": "code",
        "colab": {
          "base_uri": "https://localhost:8080/",
          "height": 34
        },
        "outputId": "5d3777ef-f8c5-4d74-b7c4-b508bc083a15"
      },
      "source": [
        "print(housing.feature_names)"
      ],
      "execution_count": 13,
      "outputs": [
        {
          "output_type": "stream",
          "text": [
            "['MedInc', 'HouseAge', 'AveRooms', 'AveBedrms', 'Population', 'AveOccup', 'Latitude', 'Longitude']\n"
          ],
          "name": "stdout"
        }
      ]
    },
    {
      "cell_type": "code",
      "metadata": {
        "id": "1-ypP7CfKxOk",
        "colab_type": "code",
        "colab": {}
      },
      "source": [
        "from sklearn.model_selection import train_test_split\n",
        "x_train_t,x_test,y_train_t,y_test=train_test_split(housing.data,housing.target,random_state=42)\n",
        "x_train,x_valid,y_train,y_valid=train_test_split(x_train_t,y_train_t,random_state=42)"
      ],
      "execution_count": 0,
      "outputs": []
    },
    {
      "cell_type": "code",
      "metadata": {
        "id": "z0zO2hjLLX17",
        "colab_type": "code",
        "colab": {}
      },
      "source": [
        "from sklearn.preprocessing import StandardScaler\n",
        "scaler=StandardScaler()\n",
        "x_train=scaler.fit_transform(x_train)\n",
        "x_valid=scaler.transform(x_valid)\n",
        "x_test=scaler.transform(x_test)"
      ],
      "execution_count": 0,
      "outputs": []
    },
    {
      "cell_type": "code",
      "metadata": {
        "id": "Pjlz7qggM3va",
        "colab_type": "code",
        "colab": {}
      },
      "source": [
        "np.random.seed(42)\n",
        "tf.random.set_seed(42)"
      ],
      "execution_count": 0,
      "outputs": []
    },
    {
      "cell_type": "code",
      "metadata": {
        "id": "mc2XRAG4M-PV",
        "colab_type": "code",
        "colab": {
          "base_uri": "https://localhost:8080/",
          "height": 34
        },
        "outputId": "aa321c98-db82-4009-8d94-8d6f81a868fb"
      },
      "source": [
        "x_train.shape"
      ],
      "execution_count": 20,
      "outputs": [
        {
          "output_type": "execute_result",
          "data": {
            "text/plain": [
              "(11610, 8)"
            ]
          },
          "metadata": {
            "tags": []
          },
          "execution_count": 20
        }
      ]
    },
    {
      "cell_type": "code",
      "metadata": {
        "id": "RMDis34PNFIC",
        "colab_type": "code",
        "colab": {}
      },
      "source": [
        "model=keras.models.Sequential([\n",
        "                              keras.layers.Dense(30,activation='relu',input_shape=[8]),\n",
        "                              keras.layers.Dense(30,activation='relu'),\n",
        "                              keras.layers.Dense(1)\n",
        "])"
      ],
      "execution_count": 0,
      "outputs": []
    },
    {
      "cell_type": "code",
      "metadata": {
        "id": "Hv3-iScmNu6Z",
        "colab_type": "code",
        "colab": {
          "base_uri": "https://localhost:8080/",
          "height": 263
        },
        "outputId": "d32e691b-2f73-4a05-ac78-f7c74c423ea4"
      },
      "source": [
        "model.summary()"
      ],
      "execution_count": 24,
      "outputs": [
        {
          "output_type": "stream",
          "text": [
            "Model: \"sequential\"\n",
            "_________________________________________________________________\n",
            "Layer (type)                 Output Shape              Param #   \n",
            "=================================================================\n",
            "dense (Dense)                (None, 30)                270       \n",
            "_________________________________________________________________\n",
            "dense_1 (Dense)              (None, 30)                930       \n",
            "_________________________________________________________________\n",
            "dense_2 (Dense)              (None, 1)                 31        \n",
            "=================================================================\n",
            "Total params: 1,231\n",
            "Trainable params: 1,231\n",
            "Non-trainable params: 0\n",
            "_________________________________________________________________\n"
          ],
          "name": "stdout"
        }
      ]
    },
    {
      "cell_type": "code",
      "metadata": {
        "id": "64P9GLtzNrzz",
        "colab_type": "code",
        "colab": {}
      },
      "source": [
        "model.compile(loss='mean_squared_error',\n",
        "              optimizer=keras.optimizers.SGD(lr=1e-3),\n",
        "              metrics=['mae'])"
      ],
      "execution_count": 0,
      "outputs": []
    },
    {
      "cell_type": "code",
      "metadata": {
        "id": "RpfKgQd4OD_a",
        "colab_type": "code",
        "colab": {
          "base_uri": "https://localhost:8080/",
          "height": 1000
        },
        "outputId": "cb14027a-c970-4baa-9cb5-7d6e6b00ec6d"
      },
      "source": [
        "model_history=model.fit(x_train,y_train,epochs=30,validation_data=(x_valid,y_valid))"
      ],
      "execution_count": 28,
      "outputs": [
        {
          "output_type": "stream",
          "text": [
            "Epoch 1/30\n",
            "363/363 [==============================] - 1s 2ms/step - loss: 1.8861 - mae: 0.9900 - val_loss: 0.7125 - val_mae: 0.6368\n",
            "Epoch 2/30\n",
            "363/363 [==============================] - 1s 1ms/step - loss: 0.6577 - mae: 0.6042 - val_loss: 0.6878 - val_mae: 0.5704\n",
            "Epoch 3/30\n",
            "363/363 [==============================] - 1s 1ms/step - loss: 0.5934 - mae: 0.5618 - val_loss: 0.5802 - val_mae: 0.5352\n",
            "Epoch 4/30\n",
            "363/363 [==============================] - 1s 1ms/step - loss: 0.5560 - mae: 0.5398 - val_loss: 0.5165 - val_mae: 0.5207\n",
            "Epoch 5/30\n",
            "363/363 [==============================] - 1s 1ms/step - loss: 0.5272 - mae: 0.5237 - val_loss: 0.4894 - val_mae: 0.5022\n",
            "Epoch 6/30\n",
            "363/363 [==============================] - 1s 1ms/step - loss: 0.5033 - mae: 0.5113 - val_loss: 0.4949 - val_mae: 0.4934\n",
            "Epoch 7/30\n",
            "363/363 [==============================] - 1s 2ms/step - loss: 0.4854 - mae: 0.5010 - val_loss: 0.4860 - val_mae: 0.4838\n",
            "Epoch 8/30\n",
            "363/363 [==============================] - 1s 1ms/step - loss: 0.4709 - mae: 0.4924 - val_loss: 0.4552 - val_mae: 0.4753\n",
            "Epoch 9/30\n",
            "363/363 [==============================] - 1s 1ms/step - loss: 0.4577 - mae: 0.4857 - val_loss: 0.4412 - val_mae: 0.4671\n",
            "Epoch 10/30\n",
            "363/363 [==============================] - 1s 2ms/step - loss: 0.4475 - mae: 0.4797 - val_loss: 0.4377 - val_mae: 0.4623\n",
            "Epoch 11/30\n",
            "363/363 [==============================] - 1s 1ms/step - loss: 0.4393 - mae: 0.4744 - val_loss: 0.4395 - val_mae: 0.4638\n",
            "Epoch 12/30\n",
            "363/363 [==============================] - 1s 1ms/step - loss: 0.4317 - mae: 0.4703 - val_loss: 0.4505 - val_mae: 0.4573\n",
            "Epoch 13/30\n",
            "363/363 [==============================] - 1s 1ms/step - loss: 0.4260 - mae: 0.4674 - val_loss: 0.3996 - val_mae: 0.4517\n",
            "Epoch 14/30\n",
            "363/363 [==============================] - 1s 1ms/step - loss: 0.4202 - mae: 0.4636 - val_loss: 0.3955 - val_mae: 0.4497\n",
            "Epoch 15/30\n",
            "363/363 [==============================] - 1s 1ms/step - loss: 0.4154 - mae: 0.4613 - val_loss: 0.3915 - val_mae: 0.4464\n",
            "Epoch 16/30\n",
            "363/363 [==============================] - 1s 1ms/step - loss: 0.4111 - mae: 0.4591 - val_loss: 0.3936 - val_mae: 0.4445\n",
            "Epoch 17/30\n",
            "363/363 [==============================] - 1s 1ms/step - loss: 0.4078 - mae: 0.4569 - val_loss: 0.3808 - val_mae: 0.4390\n",
            "Epoch 18/30\n",
            "363/363 [==============================] - 1s 1ms/step - loss: 0.4039 - mae: 0.4545 - val_loss: 0.3792 - val_mae: 0.4368\n",
            "Epoch 19/30\n",
            "363/363 [==============================] - 1s 1ms/step - loss: 0.4004 - mae: 0.4521 - val_loss: 0.3849 - val_mae: 0.4369\n",
            "Epoch 20/30\n",
            "363/363 [==============================] - 1s 1ms/step - loss: 0.3980 - mae: 0.4508 - val_loss: 0.3808 - val_mae: 0.4368\n",
            "Epoch 21/30\n",
            "363/363 [==============================] - 1s 1ms/step - loss: 0.3950 - mae: 0.4488 - val_loss: 0.3700 - val_mae: 0.4350\n",
            "Epoch 22/30\n",
            "363/363 [==============================] - 1s 1ms/step - loss: 0.3926 - mae: 0.4474 - val_loss: 0.3780 - val_mae: 0.4358\n",
            "Epoch 23/30\n",
            "363/363 [==============================] - 1s 1ms/step - loss: 0.3897 - mae: 0.4462 - val_loss: 0.3649 - val_mae: 0.4267\n",
            "Epoch 24/30\n",
            "363/363 [==============================] - 1s 1ms/step - loss: 0.3874 - mae: 0.4438 - val_loss: 0.3654 - val_mae: 0.4271\n",
            "Epoch 25/30\n",
            "363/363 [==============================] - 1s 1ms/step - loss: 0.3851 - mae: 0.4427 - val_loss: 0.3610 - val_mae: 0.4257\n",
            "Epoch 26/30\n",
            "363/363 [==============================] - 1s 1ms/step - loss: 0.3828 - mae: 0.4412 - val_loss: 0.3625 - val_mae: 0.4256\n",
            "Epoch 27/30\n",
            "363/363 [==============================] - 1s 1ms/step - loss: 0.3809 - mae: 0.4398 - val_loss: 0.3563 - val_mae: 0.4242\n",
            "Epoch 28/30\n",
            "363/363 [==============================] - 1s 1ms/step - loss: 0.3787 - mae: 0.4382 - val_loss: 0.3578 - val_mae: 0.4259\n",
            "Epoch 29/30\n",
            "363/363 [==============================] - 1s 1ms/step - loss: 0.3769 - mae: 0.4373 - val_loss: 0.3560 - val_mae: 0.4244\n",
            "Epoch 30/30\n",
            "363/363 [==============================] - 1s 2ms/step - loss: 0.3749 - mae: 0.4359 - val_loss: 0.3547 - val_mae: 0.4214\n"
          ],
          "name": "stdout"
        }
      ]
    },
    {
      "cell_type": "code",
      "metadata": {
        "id": "hRCZvqLYOloW",
        "colab_type": "code",
        "colab": {}
      },
      "source": [
        ""
      ],
      "execution_count": 0,
      "outputs": []
    }
  ]
}